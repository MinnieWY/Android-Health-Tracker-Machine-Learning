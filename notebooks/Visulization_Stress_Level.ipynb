{
 "cells": [
  {
   "cell_type": "markdown",
   "id": "e39ed7a9",
   "metadata": {},
   "source": [
    "# Understand more about the Stress Level"
   ]
  },
  {
   "cell_type": "markdown",
   "id": "9a20f741",
   "metadata": {},
   "source": [
    "Stress level will be the labels (y) of the prediction model. It is a self-evaluated values ranged from 1 to 10 incluesively."
   ]
  },
  {
   "cell_type": "code",
   "execution_count": null,
   "id": "dbcfc9fe",
   "metadata": {},
   "outputs": [],
   "source": [
    "Get ready with the Notebook by import liberaries and dataframe"
   ]
  },
  {
   "cell_type": "code",
   "execution_count": null,
   "id": "97125433",
   "metadata": {},
   "outputs": [],
   "source": [
    "import pandas as pd\n",
    "import matplotlib.pyplot as plt\n",
    "\n",
    "# Load the dataset\n",
    "stress_df = pd.read_csv('../input/stress.csv')"
   ]
  },
  {
   "cell_type": "markdown",
   "id": "9d93b384",
   "metadata": {},
   "source": [
    "First, we would like to understand how it is distributed. We will use a histogram to visulize it."
   ]
  },
  {
   "cell_type": "code",
   "execution_count": null,
   "id": "dc18e242",
   "metadata": {},
   "outputs": [],
   "source": [
    "fig = plt.figure(figsize=(10,4))\n",
    "\n",
    "plt.hist(data['level'])\n",
    "\n",
    "plt.title('Stress Level Distribution')\n",
    "plt.xlabel('Level')\n",
    "plt.ylabel('Frequency')\n",
    "\n",
    "fig.show()"
   ]
  },
  {
   "cell_type": "markdown",
   "id": "4bc17253",
   "metadata": {},
   "source": [
    "Just a heads up, check the value of statistic"
   ]
  },
  {
   "cell_type": "code",
   "execution_count": null,
   "id": "17422502",
   "metadata": {},
   "outputs": [],
   "source": [
    "level = stress_df['level']\n",
    "min_val = level.min()\n",
    "max_val = level.max()\n",
    "mean_val = level.mean()\n",
    "med_val = level.median()\n",
    "mod_val = level.mode()[0]\n",
    "\n",
    "print('Minimum:{:.2f}\\nMean:{:.2f}\\nMedian:{:.2f}\\nMode:{:.2f}\\nMaximum:{:.2f}\\n'.format(min_val,mean_val,med_val,mod_val,max_val))"
   ]
  },
  {
   "cell_type": "markdown",
   "id": "e3ed3588",
   "metadata": {},
   "source": [
    "Find it hard to understand? Let's use histogram and to see how the data aligns at."
   ]
  },
  {
   "cell_type": "code",
   "execution_count": null,
   "id": "1caf8504",
   "metadata": {},
   "outputs": [],
   "source": [
    "fig = plt.figure(figsize=(10,4))\n",
    "\n",
    "plt.hist(level)\n",
    "\n",
    "plt.axvline(x=min_val, color = 'gray', linestyle='dashed', linewidth = 2)\n",
    "plt.axvline(x=mean_val, color = 'cyan', linestyle='dashed', linewidth = 2)\n",
    "plt.axvline(x=med_val, color = 'red', linestyle='dashed', linewidth = 2)\n",
    "plt.axvline(x=mod_val, color = 'yellow', linestyle='dashed', linewidth = 2)\n",
    "plt.axvline(x=max_val, color = 'gray', linestyle='dashed', linewidth = 2)\n",
    "\n",
    "plt.title('Stress Level Distribution')\n",
    "plt.xlabel('Level')\n",
    "plt.ylabel('Frequency')\n",
    "\n",
    "fig.show()"
   ]
  },
  {
   "cell_type": "markdown",
   "id": "64da0897",
   "metadata": {},
   "source": [
    "We can also use Box and whisker plot (a.k.a box plot) to understand the distribution together with the quater information."
   ]
  },
  {
   "cell_type": "code",
   "execution_count": null,
   "id": "64eb61d1",
   "metadata": {},
   "outputs": [],
   "source": [
    "fig = plt.figure(figsize=(10,4))\n",
    "\n",
    "plt.boxplot(level)\n",
    "\n",
    "plt.title('Stress Level Distribution')\n",
    "\n",
    "fig.show()"
   ]
  },
  {
   "cell_type": "markdown",
   "id": "bd865b7c",
   "metadata": {},
   "source": [
    "Now we have 2 graphs: Histogram and Box Plot. For learning, it's useful to combine histograms and box plots, with the box plot's orientation changed to align it with the histogram. Here, we code a function that can be used for future."
   ]
  },
  {
   "cell_type": "code",
   "execution_count": null,
   "id": "d9dd9393",
   "metadata": {},
   "outputs": [],
   "source": [
    "def show_distribution(var_data):\n",
    "    min_val = var_data.min()\n",
    "    max_val = var_data.max()\n",
    "    mean_val = var_data.mean()\n",
    "    med_val = var_data.median()\n",
    "    mod_val = var_data.mode()[0]\n",
    "\n",
    "    print('Minimum:{:.2f}\\nMean:{:.2f}\\nMedian:{:.2f}\\nMode:{:.2f}\\nMaximum:{:.2f}\\n'.format(min_val, mean_val, med_val, mod_val,max_val))\n",
    "\n",
    "    # Create a figure for 2 subplots (2 rows, 1 column)\n",
    "    fig, ax = plt.subplots(2, 1, figsize = (10,4))\n",
    "\n",
    "    ax[0].hist(var_data)\n",
    "    ax[0].set_ylabel('Frequency')\n",
    "\n",
    "    ax[0].axvline(x=min_val, color = 'gray', linestyle='dashed', linewidth = 2)\n",
    "    ax[0].axvline(x=mean_val, color = 'cyan', linestyle='dashed', linewidth = 2)\n",
    "    ax[0].axvline(x=med_val, color = 'red', linestyle='dashed', linewidth = 2)\n",
    "    ax[0].axvline(x=mod_val, color = 'yellow', linestyle='dashed', linewidth = 2)\n",
    "    ax[0].axvline(x=max_val, color = 'gray', linestyle='dashed', linewidth = 2)\n",
    "\n",
    "    ax[1].boxplot(var_data, vert=False)\n",
    "    ax[1].set_xlabel('Level')\n",
    "\n",
    "    fig.suptitle('Stress Level Distribution')\n",
    "\n",
    "    fig.show()\n",
    "\n",
    "show_distribution(level)"
   ]
  },
  {
   "cell_type": "markdown",
   "id": "dc68938d",
   "metadata": {},
   "source": [
    "From the above analysis, it looks like the majority of data aligns at the middle point. We can also check for data density."
   ]
  },
  {
   "cell_type": "code",
   "execution_count": null,
   "id": "c0f2ae4e",
   "metadata": {},
   "outputs": [],
   "source": [
    "def show_density(var_data):\n",
    "    from matplotlib import pyplot as plt\n",
    "\n",
    "    fig = plt.figure(figsize=(10,4))\n",
    "\n",
    "    # Plot density\n",
    "    var_data.plot.density()\n",
    "\n",
    "    # Add titles and labels\n",
    "    plt.title('Data Density')\n",
    "\n",
    "    # Show the mean, median, and mode\n",
    "    plt.axvline(x=var_data.mean(), color = 'cyan', linestyle='dashed', linewidth = 2)\n",
    "    plt.axvline(x=var_data.median(), color = 'red', linestyle='dashed', linewidth = 2)\n",
    "    plt.axvline(x=var_data.mode()[0], color = 'yellow', linestyle='dashed', linewidth = 2)\n",
    "\n",
    "    # Show the figure\n",
    "    plt.show()\n",
    "\n",
    "# Get the density of Grade\n",
    "show_density(level)"
   ]
  }
 ],
 "metadata": {
  "kernelspec": {
   "display_name": "Python 3 (ipykernel)",
   "language": "python",
   "name": "python3"
  },
  "language_info": {
   "codemirror_mode": {
    "name": "ipython",
    "version": 3
   },
   "file_extension": ".py",
   "mimetype": "text/x-python",
   "name": "python",
   "nbconvert_exporter": "python",
   "pygments_lexer": "ipython3",
   "version": "3.9.13"
  }
 },
 "nbformat": 4,
 "nbformat_minor": 5
}
